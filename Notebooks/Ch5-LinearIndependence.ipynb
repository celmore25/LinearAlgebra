{
 "cells": [
  {
   "cell_type": "markdown",
   "metadata": {},
   "source": [
    "# Linear Independence"
   ]
  },
  {
   "cell_type": "code",
   "execution_count": 1,
   "metadata": {
    "ExecuteTime": {
     "end_time": "2021-04-25T20:12:10.325187Z",
     "start_time": "2021-04-25T20:12:10.167859Z"
    }
   },
   "outputs": [],
   "source": [
    "import numpy as np\n",
    "from scipy import linalg as la"
   ]
  },
  {
   "cell_type": "markdown",
   "metadata": {},
   "source": [
    "## Gram-Schmidt Algorithm"
   ]
  },
  {
   "cell_type": "code",
   "execution_count": 38,
   "metadata": {
    "ExecuteTime": {
     "end_time": "2021-04-25T20:21:42.786199Z",
     "start_time": "2021-04-25T20:21:42.781189Z"
    }
   },
   "outputs": [],
   "source": [
    "def gram_schmidt(vecs):\n",
    "    vecs = [a, b]\n",
    "    basis = []\n",
    "    for ind, vec in enumerate(vecs):\n",
    "        if ind == 0:\n",
    "            qt = vec / la.norm(vec)\n",
    "            basis.append(qt)\n",
    "        else:\n",
    "            qt = vec - (qt@vec)*qt\n",
    "            basis.append(qt)\n",
    "    return np.array(basis)"
   ]
  },
  {
   "cell_type": "code",
   "execution_count": 40,
   "metadata": {
    "ExecuteTime": {
     "end_time": "2021-04-25T20:21:58.891572Z",
     "start_time": "2021-04-25T20:21:58.886922Z"
    }
   },
   "outputs": [
    {
     "name": "stdout",
     "output_type": "stream",
     "text": [
      "[[ 0.94139935  0.33729404]\n",
      " [ 0.03320287 -0.09267036]]\n"
     ]
    }
   ],
   "source": [
    "a = np.random.rand(2)\n",
    "b = np.random.rand(2)\n",
    "vecs = [a, b]\n",
    "print(gram_schmidt(vecs))"
   ]
  },
  {
   "cell_type": "code",
   "execution_count": 41,
   "metadata": {
    "ExecuteTime": {
     "end_time": "2021-04-25T20:22:13.715748Z",
     "start_time": "2021-04-25T20:22:13.711284Z"
    }
   },
   "outputs": [
    {
     "name": "stdout",
     "output_type": "stream",
     "text": [
      "[[1. 0.]\n",
      " [0. 0.]]\n"
     ]
    }
   ],
   "source": [
    "a = [1, 0]\n",
    "b = [2, 0]\n",
    "vecs = [a, b]\n",
    "print(gram_schmidt(vecs))"
   ]
  },
  {
   "cell_type": "code",
   "execution_count": null,
   "metadata": {},
   "outputs": [],
   "source": []
  }
 ],
 "metadata": {
  "kernelspec": {
   "display_name": "Python 3",
   "language": "python",
   "name": "python3"
  },
  "language_info": {
   "codemirror_mode": {
    "name": "ipython",
    "version": 3
   },
   "file_extension": ".py",
   "mimetype": "text/x-python",
   "name": "python",
   "nbconvert_exporter": "python",
   "pygments_lexer": "ipython3",
   "version": "3.9.0"
  },
  "toc": {
   "base_numbering": 1,
   "nav_menu": {},
   "number_sections": true,
   "sideBar": true,
   "skip_h1_title": false,
   "title_cell": "Table of Contents",
   "title_sidebar": "Contents",
   "toc_cell": false,
   "toc_position": {},
   "toc_section_display": true,
   "toc_window_display": false
  }
 },
 "nbformat": 4,
 "nbformat_minor": 4
}
