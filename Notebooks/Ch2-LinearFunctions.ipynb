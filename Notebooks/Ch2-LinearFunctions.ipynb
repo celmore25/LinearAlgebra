{
 "cells": [
  {
   "cell_type": "markdown",
   "metadata": {},
   "source": [
    "# Linear Functions"
   ]
  },
  {
   "cell_type": "code",
   "execution_count": 42,
   "metadata": {
    "ExecuteTime": {
     "end_time": "2021-04-25T19:33:54.908287Z",
     "start_time": "2021-04-25T19:33:54.904279Z"
    }
   },
   "outputs": [],
   "source": [
    "import numpy as np\n",
    "from scipy import optimize as opt\n",
    "import numdifftools as nd"
   ]
  },
  {
   "cell_type": "markdown",
   "metadata": {},
   "source": [
    "## Taylor Series Approximations"
   ]
  },
  {
   "cell_type": "markdown",
   "metadata": {},
   "source": [
    "Given the function $f(x) = x_0 + e^{x_1 - x_0}$, calculate the first and second degree taylor series approximation for $f(x)$. Take the point of interest to be $[1.5, 1.3]$ and use $[1, 1]$ as the starting point.\n",
    "\n",
    "The first degree approximation is given as $\\hat{f}(x) = f(z) + \\nabla f(z)^T (x - z)$\n",
    "\n",
    "The second degree approximation is given as $\\hat{f}(x) = f(z) + \\nabla f(z)^T (x - z) + \\frac{1}{2!}(x - z)^T H(z) (x - z)$"
   ]
  },
  {
   "cell_type": "code",
   "execution_count": 66,
   "metadata": {
    "ExecuteTime": {
     "end_time": "2021-04-25T19:41:05.934943Z",
     "start_time": "2021-04-25T19:41:05.927574Z"
    }
   },
   "outputs": [],
   "source": [
    "def f(x):\n",
    "    return x[0] + np.exp(x[1] - x[0])\n",
    "\n",
    "def taylor_1(f, x, z, esp=1e-4):\n",
    "    grad = opt.approx_fprime(z, f, esp)\n",
    "    diff = (x - z)\n",
    "    return f(z) + diff @ grad\n",
    "\n",
    "def taylor_2(f, x, z):\n",
    "    grad = opt.approx_fprime(z, f, 1e-4)\n",
    "    hess = nd.Hessian(f)(z)\n",
    "    diff = (x - z)\n",
    "    return f(z) + diff @ grad + 1/2 * (diff @ hess) @ diff"
   ]
  },
  {
   "cell_type": "code",
   "execution_count": 67,
   "metadata": {
    "ExecuteTime": {
     "end_time": "2021-04-25T19:41:07.114923Z",
     "start_time": "2021-04-25T19:41:07.103218Z"
    }
   },
   "outputs": [
    {
     "name": "stdout",
     "output_type": "stream",
     "text": [
      "f([1.5 1.3]) = 2.319\n",
      "f_t1([1.5 1.3]) = 2.300\n",
      "f_t2([1.5 1.3]) = 2.320\n",
      "First Degree Error = 0.0187\n",
      "Second Degree Error = -0.0013\n"
     ]
    }
   ],
   "source": [
    "z = np.array([1, 1])\n",
    "x = np.array([1.5, 1.3])\n",
    "f_hat1 = taylor_1(f, x, z)\n",
    "f_hat2 = taylor_2(f, x, z)\n",
    "f_real = f(x)\n",
    "\n",
    "print(f'f({x}) = {f_real:.3f}')\n",
    "print(f'f_t1({x}) = {f_hat1:.3f}')\n",
    "print(f'f_t2({x}) = {f_hat2:.3f}')\n",
    "print(f'First Degree Error = {f_real - f_hat1:.4f}')\n",
    "print(f'Second Degree Error = {f_real - f_hat2:.4f}')"
   ]
  }
 ],
 "metadata": {
  "kernelspec": {
   "display_name": "Python 3",
   "language": "python",
   "name": "python3"
  },
  "language_info": {
   "codemirror_mode": {
    "name": "ipython",
    "version": 3
   },
   "file_extension": ".py",
   "mimetype": "text/x-python",
   "name": "python",
   "nbconvert_exporter": "python",
   "pygments_lexer": "ipython3",
   "version": "3.9.0"
  },
  "toc": {
   "base_numbering": 1,
   "nav_menu": {},
   "number_sections": true,
   "sideBar": true,
   "skip_h1_title": false,
   "title_cell": "Table of Contents",
   "title_sidebar": "Contents",
   "toc_cell": false,
   "toc_position": {},
   "toc_section_display": true,
   "toc_window_display": false
  }
 },
 "nbformat": 4,
 "nbformat_minor": 4
}
